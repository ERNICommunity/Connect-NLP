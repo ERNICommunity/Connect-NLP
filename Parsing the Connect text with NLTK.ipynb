{
 "cells": [
  {
   "cell_type": "markdown",
   "metadata": {},
   "source": [
    "# Data Science Challenge - Parsing the Connect advertising texts with NLTK"
   ]
  },
  {
   "cell_type": "markdown",
   "metadata": {},
   "source": [
    "## A quick tutorial"
   ]
  },
  {
   "cell_type": "code",
   "execution_count": null,
   "metadata": {
    "collapsed": true
   },
   "outputs": [],
   "source": [
    "################################## Preconditions for running this iPython notebook ##########################################\n",
    "### You need to have the Connect advertising text data set saved somewhere. In this tutorial it is renamed 'connect.txt'  ###\n",
    "### You also need to have nltk package installed using pip or anaconda...                                                 ###\n",
    "#############################################################################################################################"
   ]
  },
  {
   "cell_type": "code",
   "execution_count": 1,
   "metadata": {
    "collapsed": true
   },
   "outputs": [],
   "source": [
    "import nltk"
   ]
  },
  {
   "cell_type": "code",
   "execution_count": 2,
   "metadata": {
    "collapsed": true
   },
   "outputs": [],
   "source": [
    "from nltk.corpus import PlaintextCorpusReader"
   ]
  },
  {
   "cell_type": "markdown",
   "metadata": {},
   "source": [
    "### Getting things ready"
   ]
  },
  {
   "cell_type": "markdown",
   "metadata": {},
   "source": [
    "#### We have both German and English in the corpus. So let's re-do this, and just extract the lines of text that have English, for this excercise."
   ]
  },
  {
   "cell_type": "code",
   "execution_count": 3,
   "metadata": {
    "collapsed": false
   },
   "outputs": [],
   "source": [
    "# this is normal Python stuff, no nltk magic here.\n",
    "# just read in the file and if the line has \"English\" in it, then keep it, otherwise discard the entire line\n",
    "\n",
    "### change the paths to your own paths to these files\n",
    "\n",
    "oldfile = r'C:\\Users\\lon\\Desktop\\connect.txt'         # this is the original connect advertising texts data set\n",
    "newfile = r'C:\\Users\\lon\\Desktop\\connect_new.txt'     # this file doesn't exist yet, we're creating it\n",
    "\n",
    "with open(oldfile,encoding='utf8') as old, open(newfile, 'w', encoding='utf8') as new:\n",
    "    for line in old:\n",
    "        if \"English\" in line:\n",
    "            new.write(line)\n"
   ]
  },
  {
   "cell_type": "markdown",
   "metadata": {},
   "source": [
    "#### Now we will get the text from this new, English-only file"
   ]
  },
  {
   "cell_type": "code",
   "execution_count": 4,
   "metadata": {
    "collapsed": false
   },
   "outputs": [],
   "source": [
    "#### change the paths to your own\n",
    "\n",
    "corpus_root = r'C:\\Users\\lon\\Desktop'\n",
    "wordlists = PlaintextCorpusReader(corpus_root, 'connect_new.txt')"
   ]
  },
  {
   "cell_type": "code",
   "execution_count": 5,
   "metadata": {
    "collapsed": false
   },
   "outputs": [],
   "source": [
    "# returns a list of the words in the corpus\n",
    "connect_en = wordlists.words('connect_new.txt')"
   ]
  },
  {
   "cell_type": "code",
   "execution_count": 6,
   "metadata": {
    "collapsed": false
   },
   "outputs": [
    {
     "name": "stdout",
     "output_type": "stream",
     "text": [
      "['103', 'English', '?', '245', 'English', '?', '266', ...]\n"
     ]
    }
   ],
   "source": [
    "print (connect_en)"
   ]
  },
  {
   "cell_type": "markdown",
   "metadata": {},
   "source": [
    "#### Get rid of pesky little words like \"the\" \"it\" \"is\" etc (called \"stopwords\" in computational linguistics)"
   ]
  },
  {
   "cell_type": "code",
   "execution_count": 7,
   "metadata": {
    "collapsed": false
   },
   "outputs": [
    {
     "name": "stdout",
     "output_type": "stream",
     "text": [
      "[nltk_data] Downloading package stopwords to\n",
      "[nltk_data]     C:\\Users\\lon\\AppData\\Roaming\\nltk_data...\n",
      "[nltk_data]   Package stopwords is already up-to-date!\n"
     ]
    },
    {
     "data": {
      "text/plain": [
       "True"
      ]
     },
     "execution_count": 7,
     "metadata": {},
     "output_type": "execute_result"
    }
   ],
   "source": [
    "# if you haven't already downloaded all the nltk corpora then this will download the 'stopwords' corpus for you\n",
    "nltk.download('stopwords')"
   ]
  },
  {
   "cell_type": "code",
   "execution_count": 8,
   "metadata": {
    "collapsed": true
   },
   "outputs": [],
   "source": [
    "def strip_en_stopwords(text):\n",
    "    stop_words = nltk.corpus.stopwords.words('english')\n",
    "    content = [w for w in text if w.lower() not in stop_words]\n",
    "    return content"
   ]
  },
  {
   "cell_type": "code",
   "execution_count": 9,
   "metadata": {
    "collapsed": false
   },
   "outputs": [],
   "source": [
    "connect_en = strip_en_stopwords(connect_en)"
   ]
  },
  {
   "cell_type": "markdown",
   "metadata": {},
   "source": [
    "####  More cleaning, let's get rid of some common punctuation marks"
   ]
  },
  {
   "cell_type": "code",
   "execution_count": 11,
   "metadata": {
    "collapsed": true
   },
   "outputs": [],
   "source": [
    "punct=['.', ',', '-', ':', ';', '(', ')', '/', '?', '!', '+', '\\'', '\\\"']"
   ]
  },
  {
   "cell_type": "code",
   "execution_count": 13,
   "metadata": {
    "collapsed": false
   },
   "outputs": [],
   "source": [
    "connect_en = [w for w in connect_en if w not in punct]"
   ]
  },
  {
   "cell_type": "code",
   "execution_count": 14,
   "metadata": {
    "collapsed": false
   },
   "outputs": [
    {
     "data": {
      "text/plain": [
       "['103',\n",
       " 'English',\n",
       " '245',\n",
       " 'English',\n",
       " '266',\n",
       " 'English',\n",
       " '285',\n",
       " 'English',\n",
       " '290',\n",
       " 'English',\n",
       " 'Benjamin',\n",
       " 'Joseph',\n",
       " 'LastName',\n",
       " '8',\n",
       " 'years',\n",
       " 'SOLID',\n",
       " 'working',\n",
       " 'experience',\n",
       " 'software',\n",
       " 'engineering',\n",
       " 'experience',\n",
       " 'various',\n",
       " 'project',\n",
       " 'types',\n",
       " 'embedded']"
      ]
     },
     "execution_count": 14,
     "metadata": {},
     "output_type": "execute_result"
    }
   ],
   "source": [
    "connect_en[:25]"
   ]
  },
  {
   "cell_type": "markdown",
   "metadata": {},
   "source": [
    "#### and get rid of numbers"
   ]
  },
  {
   "cell_type": "code",
   "execution_count": 15,
   "metadata": {
    "collapsed": false
   },
   "outputs": [],
   "source": [
    "import re\n",
    "connect_en = [item for item in connect_en if not re.search('\\d', item)]"
   ]
  },
  {
   "cell_type": "markdown",
   "metadata": {},
   "source": [
    "#### and get rid of the anonymised FirstName and LastName and the language identifier"
   ]
  },
  {
   "cell_type": "code",
   "execution_count": 16,
   "metadata": {
    "collapsed": true
   },
   "outputs": [],
   "source": [
    "connect_en = [item for item in connect_en if not re.search('FirstName|LastName|English', item)]"
   ]
  },
  {
   "cell_type": "code",
   "execution_count": 17,
   "metadata": {
    "collapsed": false
   },
   "outputs": [
    {
     "data": {
      "text/plain": [
       "['Benjamin',\n",
       " 'Joseph',\n",
       " 'years',\n",
       " 'SOLID',\n",
       " 'working',\n",
       " 'experience',\n",
       " 'software',\n",
       " 'engineering',\n",
       " 'experience',\n",
       " 'various',\n",
       " 'project',\n",
       " 'types',\n",
       " 'embedded',\n",
       " 'systems',\n",
       " 'Windows',\n",
       " 'applications',\n",
       " 'Web',\n",
       " 'applications',\n",
       " 'cloud',\n",
       " 'backend',\n",
       " 'applications',\n",
       " 'experience',\n",
       " 'working',\n",
       " 'japanese',\n",
       " 'swiss']"
      ]
     },
     "execution_count": 17,
     "metadata": {},
     "output_type": "execute_result"
    }
   ],
   "source": [
    "connect_en[:25]"
   ]
  },
  {
   "cell_type": "markdown",
   "metadata": {},
   "source": [
    "### Let's look at the most common collocations"
   ]
  },
  {
   "cell_type": "code",
   "execution_count": 18,
   "metadata": {
    "collapsed": true
   },
   "outputs": [],
   "source": [
    "### to do that, we need to convert our list to a nltk text, which has a lot of methods to do advanced analysis tasks\n",
    "text = nltk.Text(connect_en)"
   ]
  },
  {
   "cell_type": "code",
   "execution_count": 19,
   "metadata": {
    "collapsed": false
   },
   "outputs": [
    {
     "name": "stdout",
     "output_type": "stream",
     "text": [
      "Software Engineer; gained experience; several years; NET framework;\n",
      "back end; Active Directory; Eclipse Helios; JSF JSP; Marketing Sales;\n",
      "Motion Graphics; Product Owner; construction installation; firewalls\n",
      "Active; unter Beweis; software engineer; Project Manager; Apache\n",
      "Maven; Executive Search; among others; configuration administration;\n",
      "geographically distributed; long term; mail servers; maintainance\n",
      "network; servers firewalls\n"
     ]
    }
   ],
   "source": [
    "text.collocations(25)     # print the 25 most common collocations (multi-word expressions)"
   ]
  },
  {
   "cell_type": "markdown",
   "metadata": {},
   "source": [
    "### Let's get nifty and find out the frequency distributions of the most common words"
   ]
  },
  {
   "cell_type": "code",
   "execution_count": 20,
   "metadata": {
    "collapsed": true
   },
   "outputs": [],
   "source": [
    "fdist = nltk.FreqDist(text)"
   ]
  },
  {
   "cell_type": "code",
   "execution_count": 21,
   "metadata": {
    "collapsed": false,
    "scrolled": true
   },
   "outputs": [
    {
     "data": {
      "text/plain": [
       "[('experience', 59),\n",
       " ('software', 40),\n",
       " ('development', 35),\n",
       " ('projects', 28),\n",
       " ('years', 28),\n",
       " ('project', 20),\n",
       " ('working', 18),\n",
       " ('design', 18),\n",
       " ('work', 18),\n",
       " ('also', 17),\n",
       " ('engineer', 17),\n",
       " ('developer', 16),\n",
       " ('well', 15),\n",
       " ('Software', 14),\n",
       " ('new', 13),\n",
       " ('web', 13),\n",
       " ('quality', 13),\n",
       " ('requirements', 13),\n",
       " ('professional', 13),\n",
       " ('skills', 13),\n",
       " ('several', 12),\n",
       " ('und', 12),\n",
       " ('solutions', 12),\n",
       " ('technologies', 12),\n",
       " ('agile', 12)]"
      ]
     },
     "execution_count": 21,
     "metadata": {},
     "output_type": "execute_result"
    }
   ],
   "source": [
    "fdist.most_common()[:25]"
   ]
  },
  {
   "cell_type": "code",
   "execution_count": null,
   "metadata": {
    "collapsed": true
   },
   "outputs": [],
   "source": []
  }
 ],
 "metadata": {
  "anaconda-cloud": {},
  "kernelspec": {
   "display_name": "Python [Root]",
   "language": "python",
   "name": "Python [Root]"
  },
  "language_info": {
   "codemirror_mode": {
    "name": "ipython",
    "version": 3
   },
   "file_extension": ".py",
   "mimetype": "text/x-python",
   "name": "python",
   "nbconvert_exporter": "python",
   "pygments_lexer": "ipython3",
   "version": "3.5.2"
  }
 },
 "nbformat": 4,
 "nbformat_minor": 0
}
